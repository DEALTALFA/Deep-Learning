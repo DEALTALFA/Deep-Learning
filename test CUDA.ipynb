{
 "cells": [
  {
   "cell_type": "code",
   "execution_count": 3,
   "id": "cbc45401",
   "metadata": {},
   "outputs": [
    {
     "ename": "ModuleNotFoundError",
     "evalue": "No module named 'cv2'",
     "output_type": "error",
     "traceback": [
      "\u001b[1;31m---------------------------------------------------------------------------\u001b[0m",
      "\u001b[1;31mModuleNotFoundError\u001b[0m                       Traceback (most recent call last)",
      "\u001b[1;32m<ipython-input-3-c8ec22b3e787>\u001b[0m in \u001b[0;36m<module>\u001b[1;34m\u001b[0m\n\u001b[1;32m----> 1\u001b[1;33m \u001b[1;32mimport\u001b[0m \u001b[0mcv2\u001b[0m\u001b[1;33m\u001b[0m\u001b[1;33m\u001b[0m\u001b[0m\n\u001b[0m",
      "\u001b[1;31mModuleNotFoundError\u001b[0m: No module named 'cv2'"
     ]
    }
   ],
   "source": [
    "import cv2"
   ]
  },
  {
   "cell_type": "code",
   "execution_count": 1,
   "id": "94bc5aeb",
   "metadata": {},
   "outputs": [
    {
     "name": "stdout",
     "output_type": "stream",
     "text": [
      "[name: \"/device:CPU:0\"\n",
      "device_type: \"CPU\"\n",
      "memory_limit: 268435456\n",
      "locality {\n",
      "}\n",
      "incarnation: 4438123388464617723\n",
      ", name: \"/device:XLA_CPU:0\"\n",
      "device_type: \"XLA_CPU\"\n",
      "memory_limit: 17179869184\n",
      "locality {\n",
      "}\n",
      "incarnation: 11095859117946823386\n",
      "physical_device_desc: \"device: XLA_CPU device\"\n",
      ", name: \"/device:GPU:0\"\n",
      "device_type: \"GPU\"\n",
      "memory_limit: 3046847284\n",
      "locality {\n",
      "  bus_id: 1\n",
      "  links {\n",
      "  }\n",
      "}\n",
      "incarnation: 16382688626776897264\n",
      "physical_device_desc: \"device: 0, name: NVIDIA GeForce GTX 1650 Ti, pci bus id: 0000:01:00.0, compute capability: 7.5\"\n",
      ", name: \"/device:XLA_GPU:0\"\n",
      "device_type: \"XLA_GPU\"\n",
      "memory_limit: 17179869184\n",
      "locality {\n",
      "}\n",
      "incarnation: 1534782739212746033\n",
      "physical_device_desc: \"device: XLA_GPU device\"\n",
      "]\n"
     ]
    }
   ],
   "source": [
    "from tensorflow.python.client import device_lib\n",
    "print(device_lib.list_local_devices())"
   ]
  },
  {
   "cell_type": "code",
   "execution_count": 2,
   "id": "af084886",
   "metadata": {},
   "outputs": [
    {
     "name": "stdout",
     "output_type": "stream",
     "text": [
      "True\n"
     ]
    }
   ],
   "source": [
    "import tensorflow as tf\n",
    "print(tf.test.is_built_with_cuda())"
   ]
  },
  {
   "cell_type": "code",
   "execution_count": 1,
   "id": "d7061c02",
   "metadata": {
    "scrolled": true
   },
   "outputs": [
    {
     "name": "stdout",
     "output_type": "stream",
     "text": [
      "x_train shape: (60000, 28, 28, 1)\n",
      "60000 train samples\n",
      "10000 test samples\n",
      "Model: \"sequential\"\n",
      "_________________________________________________________________\n",
      "Layer (type)                 Output Shape              Param #   \n",
      "=================================================================\n",
      "conv2d (Conv2D)              (None, 26, 26, 64)        640       \n",
      "_________________________________________________________________\n",
      "max_pooling2d (MaxPooling2D) (None, 13, 13, 64)        0         \n",
      "_________________________________________________________________\n",
      "conv2d_1 (Conv2D)            (None, 11, 11, 64)        36928     \n",
      "_________________________________________________________________\n",
      "max_pooling2d_1 (MaxPooling2 (None, 5, 5, 64)          0         \n",
      "_________________________________________________________________\n",
      "flatten (Flatten)            (None, 1600)              0         \n",
      "_________________________________________________________________\n",
      "dropout (Dropout)            (None, 1600)              0         \n",
      "_________________________________________________________________\n",
      "dense (Dense)                (None, 10)                16010     \n",
      "=================================================================\n",
      "Total params: 53,578\n",
      "Trainable params: 53,578\n",
      "Non-trainable params: 0\n",
      "_________________________________________________________________\n",
      "Epoch 1/25\n",
      "422/422 [==============================] - 3s 6ms/step - loss: 0.3459 - accuracy: 0.8938 - val_loss: 0.0753 - val_accuracy: 0.9783\n",
      "Epoch 2/25\n",
      "422/422 [==============================] - 3s 6ms/step - loss: 0.1073 - accuracy: 0.9670 - val_loss: 0.0532 - val_accuracy: 0.9847\n",
      "Epoch 3/25\n",
      "422/422 [==============================] - 3s 6ms/step - loss: 0.0772 - accuracy: 0.9762 - val_loss: 0.0457 - val_accuracy: 0.9875\n",
      "Epoch 4/25\n",
      "422/422 [==============================] - 3s 6ms/step - loss: 0.0637 - accuracy: 0.9799 - val_loss: 0.0408 - val_accuracy: 0.9893\n",
      "Epoch 5/25\n",
      "422/422 [==============================] - 3s 6ms/step - loss: 0.0576 - accuracy: 0.9816 - val_loss: 0.0381 - val_accuracy: 0.9903\n",
      "Epoch 6/25\n",
      "422/422 [==============================] - 2s 6ms/step - loss: 0.0537 - accuracy: 0.9827 - val_loss: 0.0362 - val_accuracy: 0.9897\n",
      "Epoch 7/25\n",
      "422/422 [==============================] - 3s 6ms/step - loss: 0.0471 - accuracy: 0.9856 - val_loss: 0.0338 - val_accuracy: 0.9908\n",
      "Epoch 8/25\n",
      "422/422 [==============================] - 2s 6ms/step - loss: 0.0433 - accuracy: 0.9859 - val_loss: 0.0325 - val_accuracy: 0.9920\n",
      "Epoch 9/25\n",
      "422/422 [==============================] - 2s 6ms/step - loss: 0.0413 - accuracy: 0.9868 - val_loss: 0.0307 - val_accuracy: 0.9903\n",
      "Epoch 10/25\n",
      "422/422 [==============================] - 2s 6ms/step - loss: 0.0400 - accuracy: 0.9874 - val_loss: 0.0292 - val_accuracy: 0.9917\n",
      "Epoch 11/25\n",
      "422/422 [==============================] - 3s 6ms/step - loss: 0.0372 - accuracy: 0.9876 - val_loss: 0.0283 - val_accuracy: 0.9920\n",
      "Epoch 12/25\n",
      "422/422 [==============================] - 3s 6ms/step - loss: 0.0359 - accuracy: 0.9885 - val_loss: 0.0274 - val_accuracy: 0.9932\n",
      "Epoch 13/25\n",
      "422/422 [==============================] - 2s 6ms/step - loss: 0.0330 - accuracy: 0.9894 - val_loss: 0.0309 - val_accuracy: 0.9920\n",
      "Epoch 14/25\n",
      "422/422 [==============================] - 2s 6ms/step - loss: 0.0314 - accuracy: 0.9897 - val_loss: 0.0292 - val_accuracy: 0.9923\n",
      "Epoch 15/25\n",
      "422/422 [==============================] - 2s 6ms/step - loss: 0.0303 - accuracy: 0.9901 - val_loss: 0.0305 - val_accuracy: 0.9912\n",
      "Epoch 16/25\n",
      "422/422 [==============================] - 2s 6ms/step - loss: 0.0277 - accuracy: 0.9907 - val_loss: 0.0328 - val_accuracy: 0.9922\n",
      "Epoch 17/25\n",
      "422/422 [==============================] - 2s 6ms/step - loss: 0.0283 - accuracy: 0.9903 - val_loss: 0.0274 - val_accuracy: 0.9933\n",
      "Epoch 18/25\n",
      "422/422 [==============================] - 2s 6ms/step - loss: 0.0274 - accuracy: 0.9911 - val_loss: 0.0296 - val_accuracy: 0.9923\n",
      "Epoch 19/25\n",
      "422/422 [==============================] - 2s 6ms/step - loss: 0.0264 - accuracy: 0.9914 - val_loss: 0.0278 - val_accuracy: 0.9923\n",
      "Epoch 20/25\n",
      "422/422 [==============================] - 2s 6ms/step - loss: 0.0268 - accuracy: 0.9910 - val_loss: 0.0290 - val_accuracy: 0.9927\n",
      "Epoch 21/25\n",
      "422/422 [==============================] - 2s 6ms/step - loss: 0.0246 - accuracy: 0.9918 - val_loss: 0.0257 - val_accuracy: 0.9930\n",
      "Epoch 22/25\n",
      "422/422 [==============================] - 2s 6ms/step - loss: 0.0233 - accuracy: 0.9919 - val_loss: 0.0308 - val_accuracy: 0.9927\n",
      "Epoch 23/25\n",
      "422/422 [==============================] - 2s 6ms/step - loss: 0.0231 - accuracy: 0.9925 - val_loss: 0.0287 - val_accuracy: 0.9920\n",
      "Epoch 24/25\n",
      "422/422 [==============================] - 2s 6ms/step - loss: 0.0236 - accuracy: 0.9919 - val_loss: 0.0281 - val_accuracy: 0.9927\n",
      "Epoch 25/25\n",
      "422/422 [==============================] - 2s 6ms/step - loss: 0.0205 - accuracy: 0.9929 - val_loss: 0.0297 - val_accuracy: 0.9922\n"
     ]
    },
    {
     "data": {
      "text/plain": [
       "<tensorflow.python.keras.callbacks.History at 0x2088c8c9340>"
      ]
     },
     "execution_count": 1,
     "metadata": {},
     "output_type": "execute_result"
    }
   ],
   "source": [
    "import numpy as np\n",
    "from tensorflow import keras\n",
    "from tensorflow.keras import layers\n",
    "num_classes = 10\n",
    "input_shape = (28, 28, 1)\n",
    "\n",
    "# the data, split between train and test sets\n",
    "(x_train, y_train), (x_test, y_test) = keras.datasets.mnist.load_data()\n",
    "\n",
    "# Scale images to the [0, 1] range\n",
    "x_train = x_train.astype(\"float32\") / 255\n",
    "x_test = x_test.astype(\"float32\") / 255\n",
    "# Make sure images have shape (28, 28, 1)\n",
    "x_train = np.expand_dims(x_train, -1)\n",
    "x_test = np.expand_dims(x_test, -1)\n",
    "print(\"x_train shape:\", x_train.shape)\n",
    "print(x_train.shape[0], \"train samples\")\n",
    "print(x_test.shape[0], \"test samples\")\n",
    "\n",
    "\n",
    "# convert class vectors to binary class matrices\n",
    "y_train = keras.utils.to_categorical(y_train, num_classes)\n",
    "y_test = keras.utils.to_categorical(y_test, num_classes)\n",
    "model = keras.Sequential(\n",
    "    [\n",
    "        keras.Input(shape=input_shape),\n",
    "        layers.Conv2D(64, kernel_size=(3, 3), activation=\"relu\"),\n",
    "        layers.MaxPooling2D(pool_size=(2, 2)),\n",
    "        layers.Conv2D(64, kernel_size=(3, 3), activation=\"relu\"),\n",
    "        layers.MaxPooling2D(pool_size=(2, 2)),\n",
    "        layers.Flatten(),\n",
    "        layers.Dropout(0.5),\n",
    "        layers.Dense(num_classes, activation=\"softmax\"),\n",
    "    ]\n",
    ")\n",
    "\n",
    "model.summary()\n",
    "batch_size = 128\n",
    "epochs = 25\n",
    "\n",
    "model.compile(loss=\"categorical_crossentropy\", optimizer=\"adam\", metrics=[\"accuracy\"])\n",
    "\n",
    "model.fit(x_train, y_train, batch_size=batch_size, epochs=epochs, validation_split=0.1)"
   ]
  },
  {
   "cell_type": "code",
   "execution_count": null,
   "id": "3d97e2d9",
   "metadata": {},
   "outputs": [],
   "source": []
  }
 ],
 "metadata": {
  "kernelspec": {
   "display_name": "Python 3",
   "language": "python",
   "name": "python3"
  },
  "language_info": {
   "codemirror_mode": {
    "name": "ipython",
    "version": 3
   },
   "file_extension": ".py",
   "mimetype": "text/x-python",
   "name": "python",
   "nbconvert_exporter": "python",
   "pygments_lexer": "ipython3",
   "version": "3.8.8"
  }
 },
 "nbformat": 4,
 "nbformat_minor": 5
}
